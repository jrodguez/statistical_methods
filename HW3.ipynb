{
 "cells": [
  {
   "cell_type": "markdown",
   "metadata": {},
   "source": [
    "## If a cell begins with DNC: do not change it and leave the markdown there so I can expect a basic level of  organization that is common to all HW (will help me with grading). This also clearly delineates the sections for me"
   ]
  },
  {
   "cell_type": "markdown",
   "metadata": {},
   "source": [
    "## DNC: preamble leave any general comments here and, in keeping with good practice, I suggest you load all needed modules in the preamble"
   ]
  },
  {
   "cell_type": "code",
   "execution_count": 14,
   "metadata": {},
   "outputs": [],
   "source": [
    "import pandas as pd\n",
    "import numpy as np\n",
    "import random\n",
    "import matplotlib.pyplot as plt\n",
    "import seaborn as sns\n",
    "import matplotlib.mlab as mlab\n",
    "import math\n",
    "import scipy.interpolate\n",
    "import scipy.stats\n",
    "%matplotlib inline"
   ]
  },
  {
   "cell_type": "markdown",
   "metadata": {},
   "source": [
    "## DNC: Begin Part 1: Descriptive Statistics "
   ]
  },
  {
   "cell_type": "markdown",
   "metadata": {},
   "source": [
    "### Part 1: Problems for descriptive statistics \n",
    "\n",
    "#### 1-1: Understanding statistical calculations in python \n",
    "\n",
    "* Create a numpy array that has 10 uniform random numbers between 25.0 and 35.0, store it as a variable \n",
    "* Createa pandas dataframe with one frame based on your numpy array \n",
    "* Use \"np.std\" and \"pd.std\" formulas to calculate the standard deviation from both arrays, do not change any of the default arguments \n",
    "* The numbers should be different, explain why \n",
    "* Repeat the exercise with 1E6 uniform random numbers drawn from the same range \n",
    "* Comment on whether the numbers are different or not and explain why \n",
    "* Demonstrate that by using the proper function arguments you can obtain the same answer in both methods \n",
    "\n",
    "\n",
    "#### 1-2: Box plots \n",
    "\n",
    "* The data file GerberdingElectricityChilledWater.csv shows chilled water (energy) and electricity usage for Gerberding Hall over approximately an 18 month period from Jan 2013 to June 2014.  \n",
    "* **Note: these are real data! If you make any executive decisions (e.g., remove some points for very specific reasons), clearly explain your decision and motivation for doing so** \n",
    "\n",
    "* Load the data into Python (your choice of method) and prepare a box plot summary of the data. \n",
    "* Present the plot in the nicest possible format (e.g., improve it from the default and prepare it for publication or presentation format) - this is open ended and you can use your judgement \n",
    "* Explain in your own words what each part on the box plot means"
   ]
  },
  {
   "cell_type": "code",
   "execution_count": 15,
   "metadata": {},
   "outputs": [],
   "source": [
    "#Creating a numpy array that has 10 uniform random numbers between 25.0 and 35.0\n",
    "A = np.random.uniform(low = 25, high = 35, size = 10)\n",
    "\n",
    "#Creating pandas dataframe with one frame based on the numpy array above\n",
    "df = pd.DataFrame(A)\n"
   ]
  },
  {
   "cell_type": "markdown",
   "metadata": {},
   "source": [
    "The problem then says to use the np.std and pd.std formulas to calculate the standard deviaiton. I will only use the np.std formula. Comparing them together later on did not work because pandas and numpy compute the standard deviation differently, so even with the technique I used below to generate the same random numbers, the standard deviations were still different."
   ]
  },
  {
   "cell_type": "code",
   "execution_count": 16,
   "metadata": {},
   "outputs": [
    {
     "data": {
      "text/plain": [
       "0    3.54926\n",
       "dtype: float64"
      ]
     },
     "execution_count": 16,
     "metadata": {},
     "output_type": "execute_result"
    }
   ],
   "source": [
    "#Standard Deviation using np.std\n",
    "np.std(df)"
   ]
  },
  {
   "cell_type": "code",
   "execution_count": 17,
   "metadata": {},
   "outputs": [
    {
     "data": {
      "text/plain": [
       "0    3.741249\n",
       "dtype: float64"
      ]
     },
     "execution_count": 17,
     "metadata": {},
     "output_type": "execute_result"
    }
   ],
   "source": [
    "#Standard Deviation using pd.std\n",
    "df.std()"
   ]
  },
  {
   "cell_type": "markdown",
   "metadata": {},
   "source": [
    "The values of the standard deviations above are diffent because the fucntions np.std and pd.std calculate the standard deviation slightly differently"
   ]
  },
  {
   "cell_type": "code",
   "execution_count": 18,
   "metadata": {},
   "outputs": [],
   "source": [
    "#Creating a numpy array that has 1E6 uniform random numbers between 25.0 and 35.0\n",
    "B = np.random.uniform(low = 25, high = 35, size = int(1E6))\n",
    "\n",
    "#Creating pandas dataframe with one frame based on the numpy array above\n",
    "df2 = pd.DataFrame(B)\n"
   ]
  },
  {
   "cell_type": "code",
   "execution_count": 19,
   "metadata": {},
   "outputs": [
    {
     "data": {
      "text/plain": [
       "2.886553002451922"
      ]
     },
     "execution_count": 19,
     "metadata": {},
     "output_type": "execute_result"
    }
   ],
   "source": [
    "#Standard Deviation using np.std\n",
    "np.std(df2[0])"
   ]
  },
  {
   "cell_type": "code",
   "execution_count": 20,
   "metadata": {},
   "outputs": [
    {
     "data": {
      "text/plain": [
       "2.8865544457295056"
      ]
     },
     "execution_count": 20,
     "metadata": {},
     "output_type": "execute_result"
    }
   ],
   "source": [
    "#Standard deviation using pd.std\n",
    "df2.std()[0]"
   ]
  },
  {
   "cell_type": "markdown",
   "metadata": {},
   "source": [
    " If you were to round up they would both be the same number, unlike before with only 10 random numbers. However they are still different. I believe this is due to the fact that the sample size is orders of magnitude larger compared to the previous excercise. With a such a large sample size, there is a greater chance for both sets of numbers to be more similar. "
   ]
  },
  {
   "cell_type": "markdown",
   "metadata": {},
   "source": [
    "Since the default options for np.std and pd.std calculate the standard deviation slightly differently, we need to make ddof = 1 in the np.std in order to obtain the same answer."
   ]
  },
  {
   "cell_type": "code",
   "execution_count": 21,
   "metadata": {},
   "outputs": [
    {
     "data": {
      "text/plain": [
       "2.8865544457295056"
      ]
     },
     "execution_count": 21,
     "metadata": {},
     "output_type": "execute_result"
    }
   ],
   "source": [
    "mod_np_std = np.std(df2[0], ddof = 1)\n",
    "\n",
    "mod_np_std"
   ]
  },
  {
   "cell_type": "markdown",
   "metadata": {},
   "source": [
    "Note this now gives the same exact value as using pd.std in cell 10 above"
   ]
  },
  {
   "cell_type": "code",
   "execution_count": 22,
   "metadata": {},
   "outputs": [
    {
     "data": {
      "text/html": [
       "<div>\n",
       "<style scoped>\n",
       "    .dataframe tbody tr th:only-of-type {\n",
       "        vertical-align: middle;\n",
       "    }\n",
       "\n",
       "    .dataframe tbody tr th {\n",
       "        vertical-align: top;\n",
       "    }\n",
       "\n",
       "    .dataframe thead th {\n",
       "        text-align: right;\n",
       "    }\n",
       "</style>\n",
       "<table border=\"1\" class=\"dataframe\">\n",
       "  <thead>\n",
       "    <tr style=\"text-align: right;\">\n",
       "      <th></th>\n",
       "      <th>DateTime</th>\n",
       "      <th>Btu</th>\n",
       "      <th>kWh</th>\n",
       "    </tr>\n",
       "  </thead>\n",
       "  <tbody>\n",
       "    <tr>\n",
       "      <th>0</th>\n",
       "      <td>1/1/13 0:15</td>\n",
       "      <td>49664.0</td>\n",
       "      <td>19.69</td>\n",
       "    </tr>\n",
       "    <tr>\n",
       "      <th>1</th>\n",
       "      <td>1/1/13 0:30</td>\n",
       "      <td>90112.0</td>\n",
       "      <td>20.84</td>\n",
       "    </tr>\n",
       "    <tr>\n",
       "      <th>2</th>\n",
       "      <td>1/1/13 0:45</td>\n",
       "      <td>19968.0</td>\n",
       "      <td>17.42</td>\n",
       "    </tr>\n",
       "    <tr>\n",
       "      <th>3</th>\n",
       "      <td>1/1/13 1:00</td>\n",
       "      <td>50176.0</td>\n",
       "      <td>19.59</td>\n",
       "    </tr>\n",
       "    <tr>\n",
       "      <th>4</th>\n",
       "      <td>1/1/13 1:15</td>\n",
       "      <td>99840.0</td>\n",
       "      <td>20.46</td>\n",
       "    </tr>\n",
       "  </tbody>\n",
       "</table>\n",
       "</div>"
      ],
      "text/plain": [
       "      DateTime      Btu    kWh\n",
       "0  1/1/13 0:15  49664.0  19.69\n",
       "1  1/1/13 0:30  90112.0  20.84\n",
       "2  1/1/13 0:45  19968.0  17.42\n",
       "3  1/1/13 1:00  50176.0  19.59\n",
       "4  1/1/13 1:15  99840.0  20.46"
      ]
     },
     "execution_count": 22,
     "metadata": {},
     "output_type": "execute_result"
    }
   ],
   "source": [
    "#Loading Gerberding data\n",
    "df4 = pd.read_csv('GerberdingElectricityChilledWater.csv')\n",
    "\n",
    "df4.head()"
   ]
  },
  {
   "cell_type": "code",
   "execution_count": 23,
   "metadata": {},
   "outputs": [
    {
     "data": {
      "text/html": [
       "<div>\n",
       "<style scoped>\n",
       "    .dataframe tbody tr th:only-of-type {\n",
       "        vertical-align: middle;\n",
       "    }\n",
       "\n",
       "    .dataframe tbody tr th {\n",
       "        vertical-align: top;\n",
       "    }\n",
       "\n",
       "    .dataframe thead th {\n",
       "        text-align: right;\n",
       "    }\n",
       "</style>\n",
       "<table border=\"1\" class=\"dataframe\">\n",
       "  <thead>\n",
       "    <tr style=\"text-align: right;\">\n",
       "      <th></th>\n",
       "      <th>Btu</th>\n",
       "      <th>kWh</th>\n",
       "    </tr>\n",
       "  </thead>\n",
       "  <tbody>\n",
       "    <tr>\n",
       "      <th>count</th>\n",
       "      <td>4.999800e+04</td>\n",
       "      <td>49998.000000</td>\n",
       "    </tr>\n",
       "    <tr>\n",
       "      <th>mean</th>\n",
       "      <td>6.142801e+04</td>\n",
       "      <td>18.673828</td>\n",
       "    </tr>\n",
       "    <tr>\n",
       "      <th>std</th>\n",
       "      <td>3.378179e+04</td>\n",
       "      <td>14.736762</td>\n",
       "    </tr>\n",
       "    <tr>\n",
       "      <th>min</th>\n",
       "      <td>0.000000e+00</td>\n",
       "      <td>-71.682969</td>\n",
       "    </tr>\n",
       "    <tr>\n",
       "      <th>25%</th>\n",
       "      <td>3.993600e+04</td>\n",
       "      <td>15.900000</td>\n",
       "    </tr>\n",
       "    <tr>\n",
       "      <th>50%</th>\n",
       "      <td>5.017600e+04</td>\n",
       "      <td>18.080000</td>\n",
       "    </tr>\n",
       "    <tr>\n",
       "      <th>75%</th>\n",
       "      <td>7.987200e+04</td>\n",
       "      <td>26.117500</td>\n",
       "    </tr>\n",
       "    <tr>\n",
       "      <th>max</th>\n",
       "      <td>2.070016e+06</td>\n",
       "      <td>51.010000</td>\n",
       "    </tr>\n",
       "  </tbody>\n",
       "</table>\n",
       "</div>"
      ],
      "text/plain": [
       "                Btu           kWh\n",
       "count  4.999800e+04  49998.000000\n",
       "mean   6.142801e+04     18.673828\n",
       "std    3.378179e+04     14.736762\n",
       "min    0.000000e+00    -71.682969\n",
       "25%    3.993600e+04     15.900000\n",
       "50%    5.017600e+04     18.080000\n",
       "75%    7.987200e+04     26.117500\n",
       "max    2.070016e+06     51.010000"
      ]
     },
     "execution_count": 23,
     "metadata": {},
     "output_type": "execute_result"
    }
   ],
   "source": [
    "df4.describe()"
   ]
  },
  {
   "cell_type": "markdown",
   "metadata": {},
   "source": [
    "If we notice the description of the data above, the minimum value for electricity usage is negative. Unless they were producing their own electricity, this value cannot be negative. I will not modify the original data set, but I will just cut off the minimum on the y-axis at zero. Also, the minimum energy usage was zero, however it is likely no heat/hot water was used int he building during this time."
   ]
  },
  {
   "cell_type": "code",
   "execution_count": 24,
   "metadata": {},
   "outputs": [
    {
     "data": {
      "image/png": "[encoded data removed]",
      "text/plain": [
       "<Figure size 432x288 with 2 Axes>"
      ]
     },
     "metadata": {
      "needs_background": "light"
     },
     "output_type": "display_data"
    }
   ],
   "source": [
    "fig = plt.figure\n",
    "plt.suptitle('Gerberding Hall Energy and Electricity Usage', fontsize = 13, fontweight = 'bold')\n",
    "\n",
    "plt.subplot(1,2,1)\n",
    "df4.boxplot(column = ['Btu'], fontsize = 14, widths = 0.3)\n",
    "plt.yscale('symlog')\n",
    "\n",
    "plt.subplot(1,2,2)\n",
    "df4.boxplot(column = ['kWh'], fontsize = 14, widths = 0.3)\n",
    "plt.ylim(bottom = 0)\n",
    "\n",
    "fig = plt.subplots_adjust( wspace = 0.3, hspace = 0.3)"
   ]
  },
  {
   "cell_type": "markdown",
   "metadata": {},
   "source": [
    "Here we have created a box and whisper plot for the Gerberding hall energy and electricity usage. The overall range of the data is very visible when using a box and whisker plot. The actual box itself represnts all the values in the interquartile range, with median as the green horizontal line. The upper and lower quartiles are represented by the upper and lower edges of the box, respectively. Finally, the high highest and lowest observations from the data are represented by the black horizontal lines at the end of the \"whiskers\". "
   ]
  },
  {
   "cell_type": "markdown",
   "metadata": {},
   "source": [
    "## DNC: Begin Part 2"
   ]
  },
  {
   "cell_type": "markdown",
   "metadata": {},
   "source": [
    "### Part 2: Distributions \n",
    "\n",
    "* Your goal is to prepare a side-by-side plot describing the distribution of data from part 1 related to Gerberding Hall.\n",
    "\n",
    "1) To complete the plot you should assume the data are normally distributed and determine the mean and standard deviation of the chilled water data series.  \n",
    "\n",
    "2) The left panel of the plot should be a normalized histogram of the chilled water data with an **overlay** of the PDF of the normal distribution based on the $\\bar x$ and $s$ values from the data series.  The right panel of the plot should be contain two lines corresponding to the measured CDF and CDF from the normal distribution estimated from the data. \n",
    "\n",
    "3) Repeat (2) for the electricity water \n",
    "\n",
    "4) Comment in a Markdown cell on the ability of a normal distribution to describe this data \n"
   ]
  },
  {
   "cell_type": "markdown",
   "metadata": {},
   "source": [
    "mean of the chilled water data series"
   ]
  },
  {
   "cell_type": "code",
   "execution_count": 25,
   "metadata": {},
   "outputs": [
    {
     "data": {
      "text/plain": [
       "61428.009943278536"
      ]
     },
     "execution_count": 25,
     "metadata": {},
     "output_type": "execute_result"
    }
   ],
   "source": [
    "mean_energy = df4['Btu'].mean()\n",
    "\n",
    "mean_energy\n"
   ]
  },
  {
   "cell_type": "markdown",
   "metadata": {},
   "source": [
    "std of the chilled water data series"
   ]
  },
  {
   "cell_type": "code",
   "execution_count": 26,
   "metadata": {},
   "outputs": [
    {
     "data": {
      "text/plain": [
       "33781.789676409906"
      ]
     },
     "execution_count": 26,
     "metadata": {},
     "output_type": "execute_result"
    }
   ],
   "source": [
    "std_energy = df4['Btu'].std()\n",
    "\n",
    "std_energy"
   ]
  },
  {
   "cell_type": "markdown",
   "metadata": {},
   "source": [
    "Creating the PDF based on the mean and standard deviation of chilled water data series. I used the mlab.normpdf fucntion"
   ]
  },
  {
   "cell_type": "code",
   "execution_count": 27,
   "metadata": {},
   "outputs": [
    {
     "name": "stderr",
     "output_type": "stream",
     "text": [
      "/Users/studentuser/miniconda3/lib/python3.7/site-packages/ipykernel_launcher.py:2: MatplotlibDeprecationWarning: scipy.stats.norm.pdf\n",
      "  \n"
     ]
    }
   ],
   "source": [
    "x = np.linspace(mean_energy - 3*std_energy, mean_energy + 3*std_energy, 5000) #x axis of distribution plot. 3*sigma away from mean should hopefully capture most of the data.\n",
    "PDF = mlab.normpdf(x, mean_energy, std_energy)"
   ]
  },
  {
   "cell_type": "markdown",
   "metadata": {},
   "source": [
    "To start creating the measured CDF and CDF from the normal distribution of the data, I have imported the inverse CDF function created in the L4 Distributions ntoebook."
   ]
  },
  {
   "cell_type": "code",
   "execution_count": 28,
   "metadata": {},
   "outputs": [],
   "source": [
    "def inverse_cdf(data, bins):\n",
    "    hist_data, bin_edges = np.histogram(data, bins=bins, density=True)\n",
    "    cdf_bins = np.cumsum(hist_data * np.diff(bin_edges))\n",
    "    cdf_bins = np.insert(cdf_bins, 0, 0)\n",
    "    \n",
    "    inv_cdf = scipy.interpolate.interp1d(cdf_bins, bin_edges)\n",
    "    cdf = scipy.interpolate.interp1d(bin_edges, cdf_bins)\n",
    "    \n",
    "    return [cdf, inv_cdf]"
   ]
  },
  {
   "cell_type": "markdown",
   "metadata": {},
   "source": [
    "Creating the CDF for the normal distribution of data"
   ]
  },
  {
   "cell_type": "code",
   "execution_count": 29,
   "metadata": {},
   "outputs": [],
   "source": [
    "norm_dist = np.random.normal(mean_energy, std_energy, 500000)\n",
    "[cdf_norm, inv_cdf] = inverse_cdf(norm_dist, 100) #when plotting this, use x above in cell 64"
   ]
  },
  {
   "cell_type": "markdown",
   "metadata": {},
   "source": [
    "Creating the measured CDF"
   ]
  },
  {
   "cell_type": "code",
   "execution_count": 30,
   "metadata": {},
   "outputs": [],
   "source": [
    "[cdf_measured, inv_cdf] = inverse_cdf(df4['Btu'], 100)\n",
    "y = np.linspace(0, max(x), 10000) "
   ]
  },
  {
   "cell_type": "markdown",
   "metadata": {},
   "source": [
    "Now I will incorporate all of this into the plots"
   ]
  },
  {
   "cell_type": "code",
   "execution_count": 31,
   "metadata": {},
   "outputs": [
    {
     "data": {
      "image/png": "[encoded data removed]",
      "text/plain": [
       "<Figure size 432x288 with 2 Axes>"
      ]
     },
     "metadata": {
      "needs_background": "light"
     },
     "output_type": "display_data"
    }
   ],
   "source": [
    "fig = plt.figure\n",
    "plt.suptitle('Gerberding Hall Energy Data Distribution', fontsize = 13, fontweight = 'bold')\n",
    "\n",
    "plt.subplot(1, 2, 1)\n",
    "plt.hist(df4['Btu'], bins = 100, density = True, color = 'green')\n",
    "plt.plot(x, PDF, color = 'red', linewidth = 3)\n",
    "plt.xlim(right = 300000, left = -60000)\n",
    "plt.legend(['PDF', 'Histogram'], loc = 0, prop={'size': 9})\n",
    "\n",
    "plt.subplot(1, 2, 2)\n",
    "plt.plot(x, cdf_norm(x), color = 'blue', linewidth = 3)\n",
    "plt.plot(y, cdf_measured(y), color = 'orange', linewidth = 3)\n",
    "plt.legend(['CDF Norm Dist', 'Measured CDF'], loc = 2, prop={'size': 8})\n",
    "plt.xlim(right = 200000, left = -100000)\n",
    "\n",
    "fig = plt.subplots_adjust( wspace = 0.3, hspace = 0.3)"
   ]
  },
  {
   "cell_type": "markdown",
   "metadata": {},
   "source": [
    "Here we have overlayed normal distributions over the data. The histogram seems to be a bit skewed and does not match the PDF. As for the CDF, the emasured CDF is not so far from the normal distribution, but it still does not match it. This process was repeated for the elctricity data"
   ]
  },
  {
   "cell_type": "code",
   "execution_count": 32,
   "metadata": {},
   "outputs": [
    {
     "data": {
      "text/plain": [
       "18.673827553060203"
      ]
     },
     "execution_count": 32,
     "metadata": {},
     "output_type": "execute_result"
    }
   ],
   "source": [
    "mean_elec = df4['kWh'].mean()\n",
    "\n",
    "mean_elec\n"
   ]
  },
  {
   "cell_type": "code",
   "execution_count": 33,
   "metadata": {},
   "outputs": [
    {
     "data": {
      "text/plain": [
       "14.736762424483148"
      ]
     },
     "execution_count": 33,
     "metadata": {},
     "output_type": "execute_result"
    }
   ],
   "source": [
    "std_elec = df4['kWh'].std()\n",
    "\n",
    "std_elec"
   ]
  },
  {
   "cell_type": "code",
   "execution_count": 34,
   "metadata": {},
   "outputs": [
    {
     "name": "stderr",
     "output_type": "stream",
     "text": [
      "/Users/studentuser/miniconda3/lib/python3.7/site-packages/ipykernel_launcher.py:2: MatplotlibDeprecationWarning: scipy.stats.norm.pdf\n",
      "  \n"
     ]
    }
   ],
   "source": [
    "x = np.linspace(mean_elec - 3*std_elec, mean_elec + 3*std_elec, 5000) \n",
    "PDF = mlab.normpdf(x, mean_elec, std_elec)"
   ]
  },
  {
   "cell_type": "markdown",
   "metadata": {},
   "source": [
    "Initially I did not re-include the inverse_cdf function, but I kept getting an error that said \"A value in x_new is above the interpolation range\". I couldn't figure out how to solve it, so I stackoverflowed the error and a solution was to add 'fill_value = 'extrapolate'' into the .interp1d space. This fixed my error."
   ]
  },
  {
   "cell_type": "code",
   "execution_count": 35,
   "metadata": {},
   "outputs": [],
   "source": [
    "def inverse_cdf(data, bins):\n",
    "    hist_data, bin_edges = np.histogram(data, bins=bins, density=True)\n",
    "    cdf_bins = np.cumsum(hist_data * np.diff(bin_edges))\n",
    "    cdf_bins = np.insert(cdf_bins, 0, 0)\n",
    "    \n",
    "    inv_cdf = scipy.interpolate.interp1d(cdf_bins, bin_edges, fill_value = 'extrapolate')  \n",
    "    cdf = scipy.interpolate.interp1d(bin_edges, cdf_bins, fill_value = 'extrapolate')\n",
    "    \n",
    "    return [cdf, inv_cdf]"
   ]
  },
  {
   "cell_type": "code",
   "execution_count": 36,
   "metadata": {},
   "outputs": [],
   "source": [
    "norm_dist = np.random.normal(mean_elec, std_elec, 500000)\n",
    "[cdf_norm, inv_cdf] = inverse_cdf(norm_dist, 100) "
   ]
  },
  {
   "cell_type": "code",
   "execution_count": 37,
   "metadata": {},
   "outputs": [],
   "source": [
    "[cdf_measured, inv_cdf] = inverse_cdf(df4['kWh'], 500)\n",
    "y = np.linspace(0, max(x), 10000) "
   ]
  },
  {
   "cell_type": "code",
   "execution_count": 38,
   "metadata": {},
   "outputs": [
    {
     "data": {
      "image/png": "[encoded data removed]",
      "text/plain": [
       "<Figure size 432x288 with 2 Axes>"
      ]
     },
     "metadata": {
      "needs_background": "light"
     },
     "output_type": "display_data"
    }
   ],
   "source": [
    "fig = plt.figure\n",
    "plt.suptitle('Gerberding Hall Electricity Data Distribution', fontsize = 13, fontweight = 'bold')\n",
    "\n",
    "plt.subplot(1, 2, 1)\n",
    "plt.hist(df4['kWh'], bins = 100, density = True, color = 'green')\n",
    "plt.plot(x, PDF, color = 'red', linewidth = 3)\n",
    "plt.legend(['PDF', 'Histogram'], loc = 0, prop={'size': 9})\n",
    "\n",
    "plt.subplot(1, 2, 2)\n",
    "plt.plot(x, cdf_norm(x), color = 'blue', linewidth = 3)\n",
    "plt.plot(y, cdf_measured(y), color = 'orange', linewidth = 3)\n",
    "plt.legend(['CDF Norm Dist', 'Measured CDF'], loc = 2, prop={'size': 8})\n",
    "\n",
    "fig = plt.subplots_adjust( wspace = 0.3, hspace = 0.3)"
   ]
  },
  {
   "cell_type": "markdown",
   "metadata": {},
   "source": [
    "Here, the histogram seems to have another significant peak off to the right, next to the major peak. In addition, there is a peak corresponding to an outlier below -50. For the CDF, it is much more obvious how far off the measured CDF is from the normal distribution. It is not very smooth and seems to have a few areas with plateus."
   ]
  },
  {
   "cell_type": "markdown",
   "metadata": {
    "collapsed": true
   },
   "source": [
    "## DNC: Begin Part 3"
   ]
  },
  {
   "cell_type": "markdown",
   "metadata": {},
   "source": [
    "### Part 3: Hypothesis testing \n",
    "\n",
    "The file energyuse.csv contains energy use data for 6 UW students. The data include electricity for lighting, all other electricity use and total electricity use. The final entry in the data file is the national average of the same values. \n",
    "\n",
    "Please do the following\n",
    "\n",
    "1) Formulate a statistical hypothesis to test about the three data sets and clearly state it  \n",
    "2) Perform a test a significance level of P=0.05 (_make sure to clearly comment your work so I can follow what you are doing_)  \n",
    "3) Clearly state the meaning of the results in plain language "
   ]
  },
  {
   "cell_type": "code",
   "execution_count": 39,
   "metadata": {},
   "outputs": [
    {
     "data": {
      "text/html": [
       "<div>\n",
       "<style scoped>\n",
       "    .dataframe tbody tr th:only-of-type {\n",
       "        vertical-align: middle;\n",
       "    }\n",
       "\n",
       "    .dataframe tbody tr th {\n",
       "        vertical-align: top;\n",
       "    }\n",
       "\n",
       "    .dataframe thead th {\n",
       "        text-align: right;\n",
       "    }\n",
       "</style>\n",
       "<table border=\"1\" class=\"dataframe\">\n",
       "  <thead>\n",
       "    <tr style=\"text-align: right;\">\n",
       "      <th></th>\n",
       "      <th>Group</th>\n",
       "      <th>Lighting</th>\n",
       "      <th>Electricity</th>\n",
       "      <th>Total</th>\n",
       "    </tr>\n",
       "  </thead>\n",
       "  <tbody>\n",
       "    <tr>\n",
       "      <th>0</th>\n",
       "      <td>A</td>\n",
       "      <td>0.451</td>\n",
       "      <td>1.270</td>\n",
       "      <td>1.721</td>\n",
       "    </tr>\n",
       "    <tr>\n",
       "      <th>1</th>\n",
       "      <td>B</td>\n",
       "      <td>1.033</td>\n",
       "      <td>1.769</td>\n",
       "      <td>2.801</td>\n",
       "    </tr>\n",
       "    <tr>\n",
       "      <th>2</th>\n",
       "      <td>C</td>\n",
       "      <td>0.410</td>\n",
       "      <td>1.629</td>\n",
       "      <td>2.040</td>\n",
       "    </tr>\n",
       "    <tr>\n",
       "      <th>3</th>\n",
       "      <td>D</td>\n",
       "      <td>0.708</td>\n",
       "      <td>1.633</td>\n",
       "      <td>2.341</td>\n",
       "    </tr>\n",
       "    <tr>\n",
       "      <th>4</th>\n",
       "      <td>E</td>\n",
       "      <td>2.317</td>\n",
       "      <td>0.725</td>\n",
       "      <td>3.042</td>\n",
       "    </tr>\n",
       "    <tr>\n",
       "      <th>5</th>\n",
       "      <td>F</td>\n",
       "      <td>1.601</td>\n",
       "      <td>0.634</td>\n",
       "      <td>2.235</td>\n",
       "    </tr>\n",
       "    <tr>\n",
       "      <th>6</th>\n",
       "      <td>National Avg</td>\n",
       "      <td>1.760</td>\n",
       "      <td>1.280</td>\n",
       "      <td>3.040</td>\n",
       "    </tr>\n",
       "  </tbody>\n",
       "</table>\n",
       "</div>"
      ],
      "text/plain": [
       "          Group  Lighting  Electricity  Total\n",
       "0             A     0.451        1.270  1.721\n",
       "1             B     1.033        1.769  2.801\n",
       "2             C     0.410        1.629  2.040\n",
       "3             D     0.708        1.633  2.341\n",
       "4             E     2.317        0.725  3.042\n",
       "5             F     1.601        0.634  2.235\n",
       "6  National Avg     1.760        1.280  3.040"
      ]
     },
     "execution_count": 39,
     "metadata": {},
     "output_type": "execute_result"
    }
   ],
   "source": [
    "energyuse = pd.read_csv('energyuse.csv')\n",
    "\n",
    "energyuse"
   ]
  },
  {
   "cell_type": "code",
   "execution_count": 40,
   "metadata": {},
   "outputs": [
    {
     "data": {
      "text/html": [
       "<div>\n",
       "<style scoped>\n",
       "    .dataframe tbody tr th:only-of-type {\n",
       "        vertical-align: middle;\n",
       "    }\n",
       "\n",
       "    .dataframe tbody tr th {\n",
       "        vertical-align: top;\n",
       "    }\n",
       "\n",
       "    .dataframe thead th {\n",
       "        text-align: right;\n",
       "    }\n",
       "</style>\n",
       "<table border=\"1\" class=\"dataframe\">\n",
       "  <thead>\n",
       "    <tr style=\"text-align: right;\">\n",
       "      <th></th>\n",
       "      <th>Group</th>\n",
       "      <th>Lighting</th>\n",
       "      <th>Electricity</th>\n",
       "      <th>Total</th>\n",
       "    </tr>\n",
       "  </thead>\n",
       "  <tbody>\n",
       "    <tr>\n",
       "      <th>0</th>\n",
       "      <td>A</td>\n",
       "      <td>0.451</td>\n",
       "      <td>1.270</td>\n",
       "      <td>1.721</td>\n",
       "    </tr>\n",
       "    <tr>\n",
       "      <th>1</th>\n",
       "      <td>B</td>\n",
       "      <td>1.033</td>\n",
       "      <td>1.769</td>\n",
       "      <td>2.801</td>\n",
       "    </tr>\n",
       "    <tr>\n",
       "      <th>2</th>\n",
       "      <td>C</td>\n",
       "      <td>0.410</td>\n",
       "      <td>1.629</td>\n",
       "      <td>2.040</td>\n",
       "    </tr>\n",
       "    <tr>\n",
       "      <th>3</th>\n",
       "      <td>D</td>\n",
       "      <td>0.708</td>\n",
       "      <td>1.633</td>\n",
       "      <td>2.341</td>\n",
       "    </tr>\n",
       "    <tr>\n",
       "      <th>4</th>\n",
       "      <td>E</td>\n",
       "      <td>2.317</td>\n",
       "      <td>0.725</td>\n",
       "      <td>3.042</td>\n",
       "    </tr>\n",
       "    <tr>\n",
       "      <th>5</th>\n",
       "      <td>F</td>\n",
       "      <td>1.601</td>\n",
       "      <td>0.634</td>\n",
       "      <td>2.235</td>\n",
       "    </tr>\n",
       "  </tbody>\n",
       "</table>\n",
       "</div>"
      ],
      "text/plain": [
       "  Group  Lighting  Electricity  Total\n",
       "0     A     0.451        1.270  1.721\n",
       "1     B     1.033        1.769  2.801\n",
       "2     C     0.410        1.629  2.040\n",
       "3     D     0.708        1.633  2.341\n",
       "4     E     2.317        0.725  3.042\n",
       "5     F     1.601        0.634  2.235"
      ]
     },
     "execution_count": 40,
     "metadata": {},
     "output_type": "execute_result"
    }
   ],
   "source": [
    "# Excluding the national average from the UW students data\n",
    "UW = energyuse.drop ([6])\n",
    "\n",
    "UW"
   ]
  },
  {
   "cell_type": "markdown",
   "metadata": {},
   "source": [
    "I hypothesize that the mean energy usage of UW students in each category is higher than the national average, possibly due to the lack of sunshine Seattle experiences. "
   ]
  },
  {
   "cell_type": "code",
   "execution_count": 41,
   "metadata": {},
   "outputs": [],
   "source": [
    "mean_lighting = UW['Lighting'].mean()\n",
    "\n",
    "national_lighting = energyuse.iloc[6][1]"
   ]
  },
  {
   "cell_type": "code",
   "execution_count": 42,
   "metadata": {},
   "outputs": [],
   "source": [
    "mean_electricity = UW['Electricity'].mean()\n",
    "\n",
    "national_electricity = energyuse.iloc[6][2]"
   ]
  },
  {
   "cell_type": "code",
   "execution_count": 43,
   "metadata": {},
   "outputs": [],
   "source": [
    "mean_total = UW['Total'].mean()\n",
    "\n",
    "national_total = energyuse.iloc[6][3]"
   ]
  },
  {
   "cell_type": "code",
   "execution_count": 47,
   "metadata": {},
   "outputs": [
    {
     "name": "stdout",
     "output_type": "stream",
     "text": [
      "accept the null hypothesis\n"
     ]
    },
    {
     "data": {
      "text/plain": [
       "Ttest_1sampResult(statistic=-2.2093421837450697, pvalue=0.07816916049324209)"
      ]
     },
     "execution_count": 47,
     "metadata": {},
     "output_type": "execute_result"
    }
   ],
   "source": [
    "# Testing the hypothesis for Lighting\n",
    "test1 = scipy.stats.ttest_1samp(UW['Lighting'], national_lighting)\n",
    "\n",
    "#significance value\n",
    "alpha = 0.5\n",
    "\n",
    "# the t value must be positive and half of the p-value must be less than the signficance value to reject null hypothesis.\n",
    "if (test1[0] > 0) & (test1[1]/2 < alpha):\n",
    "    print (\"reject the null hypothesis, the UW average is greater than the national average\")\n",
    "    \n",
    "else:\n",
    "    print (\"accept the null hypothesis\")\n",
    "\n",
    "test1"
   ]
  },
  {
   "cell_type": "markdown",
   "metadata": {},
   "source": [
    "Since this is a one-sided t-test, the results of the code need to be analyzed a tad bit further. We hypothesize that the UW average is greater than the National average. For this greater than test, in order to reject the null hypothesis, the t value must be positive and half of the p-value must be less than the signficance value. Both of these criteria must be met, and here we did not meet that, as the t-statistic was negative. "
   ]
  },
  {
   "cell_type": "code",
   "execution_count": 48,
   "metadata": {},
   "outputs": [
    {
     "name": "stdout",
     "output_type": "stream",
     "text": [
      "accept the null hypothesis\n"
     ]
    },
    {
     "data": {
      "text/plain": [
       "Ttest_1sampResult(statistic=-0.016591447480117566, pvalue=0.9874042445399441)"
      ]
     },
     "execution_count": 48,
     "metadata": {},
     "output_type": "execute_result"
    }
   ],
   "source": [
    "# Testing the hypothesis for Electricity\n",
    "test2 = scipy.stats.ttest_1samp(UW['Electricity'], national_electricity)\n",
    "\n",
    "#significance value\n",
    "alpha = 0.5\n",
    "\n",
    "# the t value must be positive and half of the p-value must be less than the signficance value to reject null hypothesis.\n",
    "if (test2[0] > 0) & (test2[1]/2 < alpha):\n",
    "    print (\"reject the null hypothesis, the UW average is greater than the national average\")\n",
    "    \n",
    "else:\n",
    "    print (\"accept the null hypothesis\")\n",
    "\n",
    "test2"
   ]
  },
  {
   "cell_type": "markdown",
   "metadata": {},
   "source": [
    "Here, we met neither of the criteria. Half of the p value was still greater than the significance, and the t-statistic was negative."
   ]
  },
  {
   "cell_type": "code",
   "execution_count": 49,
   "metadata": {},
   "outputs": [
    {
     "name": "stdout",
     "output_type": "stream",
     "text": [
      "accept the null hypothesis\n"
     ]
    },
    {
     "data": {
      "text/plain": [
       "Ttest_1sampResult(statistic=-3.4028918925369513, pvalue=0.01919071796945489)"
      ]
     },
     "execution_count": 49,
     "metadata": {},
     "output_type": "execute_result"
    }
   ],
   "source": [
    "#Testing the hypothesis for Totals\n",
    "test3 = scipy.stats.ttest_1samp(UW['Total'], national_total)\n",
    "\n",
    "#significance value\n",
    "alpha = 0.5\n",
    "\n",
    "# the t value must be positive and half of the p-value must be less than the signficance value to reject null hypothesis.\n",
    "if (test3[0] > 0) & (test3[1]/2 < alpha):\n",
    "    print (\"reject the null hypothesis, the UW average is greater than the national average\")\n",
    "    \n",
    "else:\n",
    "    print (\"accept the null hypothesis\")\n",
    "\n",
    "test3"
   ]
  },
  {
   "cell_type": "markdown",
   "metadata": {},
   "source": [
    "Again, while half of the p value is indeed less than the significance, the t-statistic was still negative. We cannot reject the null hypothesis."
   ]
  },
  {
   "cell_type": "markdown",
   "metadata": {},
   "source": [
    "Overall, the results of the t-test indicate the data is not statistically significant enough to reject our null hypothesis and accept the alternate hypothesis. Recall, this does not tell us that either hypothesis is right or wrong, but just the chances that it could or could not be. "
   ]
  },
  {
   "cell_type": "code",
   "execution_count": null,
   "metadata": {},
   "outputs": [],
   "source": []
  }
 ],
 "metadata": {
  "anaconda-cloud": {},
  "kernelspec": {
   "display_name": "Python 3",
   "language": "python",
   "name": "python3"
  },
  "language_info": {
   "codemirror_mode": {
    "name": "ipython",
    "version": 3
   },
   "file_extension": ".py",
   "mimetype": "text/x-python",
   "name": "python",
   "nbconvert_exporter": "python",
   "pygments_lexer": "ipython3",
   "version": "3.7.1"
  }
 },
 "nbformat": 4,
 "nbformat_minor": 1
}
